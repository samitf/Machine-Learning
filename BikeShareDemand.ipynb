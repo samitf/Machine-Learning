{
  "cells": [
    {
      "cell_type": "markdown",
      "metadata": {
        "id": "view-in-github",
        "colab_type": "text"
      },
      "source": [
        "<a href=\"https://colab.research.google.com/github/samitf/Machine-Learning/blob/main/BikeShareDemand.ipynb\" target=\"_parent\"><img src=\"https://colab.research.google.com/assets/colab-badge.svg\" alt=\"Open In Colab\"/></a>"
      ]
    },
    {
      "cell_type": "markdown",
      "source": [
        "\n",
        "# **Problem Statement:**\n",
        "\n",
        "We want to predict how many bikes people will rent at a specific time using details like weather, season, and time. This helps in planning and making sure enough bikes are available when needed.\n",
        "\n",
        "# **Problem Definition:**\n",
        "\n",
        "The goal is to build a predictive model that estimates the total number of bikes rented at a given hour or day. The model will use input features such as:\n",
        "\n",
        "*   Time-based features: hour, day, month, weekday, year\n",
        "*   Environmental features: temperature, humidity, windspeed, weather situation\n",
        "*   Calendar features: season, holiday, working day\n",
        "\n",
        "This is a regression problem where the target variable is the continuous value cnt, which represents the total number of bikes rented (both casual and registered users). The model should learn patterns in the historical data to make accurate predictions for future rental demand."
      ],
      "metadata": {
        "id": "D9zJKg0u3t3i"
      }
    },
    {
      "cell_type": "markdown",
      "source": [
        "In this project, We develop a machine learning model to predict daily bike rentals for a city bike-sharing program. This information can be used for optimizing bike distribution, staffing, and overall program efficiency."
      ],
      "metadata": {
        "id": "h1qML_Tm4MK5"
      }
    },
    {
      "cell_type": "code",
      "source": [
        "import numpy as np\n",
        "import pandas as pd\n",
        "import matplotlib.pyplot as plt\n",
        "import seaborn as sns\n",
        "import torch\n",
        "import torch.nn as nn\n",
        "import torch.optim as optim"
      ],
      "metadata": {
        "id": "ZY3Fdx6g3-7h"
      },
      "execution_count": 1,
      "outputs": []
    },
    {
      "cell_type": "code",
      "source": [
        "PATH = \"/content\""
      ],
      "metadata": {
        "id": "-gt_WbI74V_h"
      },
      "execution_count": 2,
      "outputs": []
    },
    {
      "cell_type": "code",
      "source": [
        "df_raw = pd.read_csv(f'{PATH}/hour.csv')\n",
        "print(df_raw.head())"
      ],
      "metadata": {
        "id": "iMnzmEK14b-a"
      },
      "execution_count": null,
      "outputs": []
    }
  ],
  "metadata": {
    "colab": {
      "name": "Welcome To Colab",
      "provenance": [],
      "include_colab_link": true
    },
    "kernelspec": {
      "display_name": "Python 3",
      "name": "python3"
    }
  },
  "nbformat": 4,
  "nbformat_minor": 0
}